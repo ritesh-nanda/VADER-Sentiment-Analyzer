{
 "cells": [
  {
   "cell_type": "code",
   "execution_count": 3,
   "metadata": {},
   "outputs": [],
   "source": [
    "import speech_recognition as sr"
   ]
  },
  {
   "cell_type": "code",
   "execution_count": 4,
   "metadata": {},
   "outputs": [],
   "source": [
    "def audio_to_text(audio, freq, width):\n",
    "    audio_data = sr.AudioData(bytes(audio), freq, width)\n",
    "    myRec = sr.recognizer()\n",
    "    \n",
    "    try:\n",
    "        recText = myRec.recognize_sphinx(audio_data)\n",
    "        successFlag = True\n",
    "    except: \n",
    "        recText = \" \"\n",
    "        successFlag = False\n",
    "        \n",
    "    return[recText, successFlag]"
   ]
  },
  {
   "cell_type": "code",
   "execution_count": 6,
   "metadata": {},
   "outputs": [],
   "source": [
    "def speech_to_text():\n",
    "    myRec = sr.recognizer()\n",
    "    myRec.energy_threshold = 1000\n",
    "    \n",
    "    with sr.Microphone() as source:\n",
    "        audioData = myRec.listen(source)\n",
    "    try:\n",
    "        return myRec.recognize_sphinx(audio_data)\n",
    "    except:\n",
    "        return \" \""
   ]
  }
 ],
 "metadata": {
  "kernelspec": {
   "display_name": "Python 3",
   "language": "python",
   "name": "python3"
  },
  "language_info": {
   "codemirror_mode": {
    "name": "ipython",
    "version": 3
   },
   "file_extension": ".py",
   "mimetype": "text/x-python",
   "name": "python",
   "nbconvert_exporter": "python",
   "pygments_lexer": "ipython3",
   "version": "3.7.6"
  }
 },
 "nbformat": 4,
 "nbformat_minor": 4
}
